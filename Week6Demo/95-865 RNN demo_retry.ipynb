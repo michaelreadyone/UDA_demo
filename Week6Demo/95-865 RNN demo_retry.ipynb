{
 "cells": [
  {
   "cell_type": "markdown",
   "metadata": {},
   "source": [
    "# Recurrent Neural Networks Demo\n",
    "\n",
    "Author: Runshan Fu (Fall 2017 95-865 TA), George H. Chen\n",
    "\n",
    "In this demo, we will implement RNN models for sentiment analysis on IMDB reviews. We will start from the original review texts and predict the sentiment (positive or negative) for each review. This demo is borrowed from the book *Deep Learning with Python* by Francois Chollet and also uses code from user `mdaoust` in [this stackoverflow post](https://stackoverflow.com/questions/42821330/restore-original-text-from-keras-s-imdb-dataset)."
   ]
  },
  {
   "cell_type": "code",
   "execution_count": 1,
   "metadata": {},
   "outputs": [],
   "source": [
    "%matplotlib inline\n",
    "import matplotlib.pyplot as plt\n",
    "import numpy as np"
   ]
  },
  {
   "cell_type": "markdown",
   "metadata": {},
   "source": [
    "## Load the dataset\n",
    "We directly load the data as lists of intergers from keras. We restrict the movie reviews to the top 2000 most common words, and make all the reviews exactly 200 words (truncating as needed or padding with a special padding character; note that truncating works by removing the *start* of the review and keeping only the last 200 words; padding works by adding the special padding character to the *start* of the review)."
   ]
  },
  {
   "cell_type": "code",
   "execution_count": 2,
   "metadata": {},
   "outputs": [
    {
     "name": "stderr",
     "output_type": "stream",
     "text": [
      "Using TensorFlow backend.\n",
      "/Users/jiangchang/opt/anaconda3/lib/python3.7/site-packages/tensorflow/python/framework/dtypes.py:526: FutureWarning: Passing (type, 1) or '1type' as a synonym of type is deprecated; in a future version of numpy, it will be understood as (type, (1,)) / '(1,)type'.\n",
      "  _np_qint8 = np.dtype([(\"qint8\", np.int8, 1)])\n",
      "/Users/jiangchang/opt/anaconda3/lib/python3.7/site-packages/tensorflow/python/framework/dtypes.py:527: FutureWarning: Passing (type, 1) or '1type' as a synonym of type is deprecated; in a future version of numpy, it will be understood as (type, (1,)) / '(1,)type'.\n",
      "  _np_quint8 = np.dtype([(\"quint8\", np.uint8, 1)])\n",
      "/Users/jiangchang/opt/anaconda3/lib/python3.7/site-packages/tensorflow/python/framework/dtypes.py:528: FutureWarning: Passing (type, 1) or '1type' as a synonym of type is deprecated; in a future version of numpy, it will be understood as (type, (1,)) / '(1,)type'.\n",
      "  _np_qint16 = np.dtype([(\"qint16\", np.int16, 1)])\n",
      "/Users/jiangchang/opt/anaconda3/lib/python3.7/site-packages/tensorflow/python/framework/dtypes.py:529: FutureWarning: Passing (type, 1) or '1type' as a synonym of type is deprecated; in a future version of numpy, it will be understood as (type, (1,)) / '(1,)type'.\n",
      "  _np_quint16 = np.dtype([(\"quint16\", np.uint16, 1)])\n",
      "/Users/jiangchang/opt/anaconda3/lib/python3.7/site-packages/tensorflow/python/framework/dtypes.py:530: FutureWarning: Passing (type, 1) or '1type' as a synonym of type is deprecated; in a future version of numpy, it will be understood as (type, (1,)) / '(1,)type'.\n",
      "  _np_qint32 = np.dtype([(\"qint32\", np.int32, 1)])\n",
      "/Users/jiangchang/opt/anaconda3/lib/python3.7/site-packages/tensorflow/python/framework/dtypes.py:535: FutureWarning: Passing (type, 1) or '1type' as a synonym of type is deprecated; in a future version of numpy, it will be understood as (type, (1,)) / '(1,)type'.\n",
      "  np_resource = np.dtype([(\"resource\", np.ubyte, 1)])\n"
     ]
    }
   ],
   "source": [
    "from keras.datasets import imdb\n",
    "from keras.preprocessing import sequence\n",
    "\n",
    "# load the dataset and only keep the top words (most frequently occurring)\n",
    "vocab_size = 2000\n",
    "INDEX_FROM = 2  # for dealing with some special characters; this is a technical thing related to the IMDB dataset\n",
    "\n",
    "\n",
    "# (x_train, y_train), (x_test, y_test) = imdb.load_data(num_words=vocab_size, index_from=INDEX_FROM)\n",
    "\n",
    "# Fix for imbd.load_data\n",
    "import numpy as np\n",
    "np_load_old = np.load\n",
    "np.load = lambda *a,**k: np_load_old(*a, allow_pickle=True, **k)\n",
    "(x_train, y_train), (x_test, y_test) = imdb.load_data(num_words=vocab_size,index_from=INDEX_FROM)\n",
    "np.load = np_load_old\n",
    "# Fix for imbd.load_data\n",
    "\n",
    "\n",
    "\n",
    "word_to_idx = imdb.get_word_index()\n",
    "\n",
    "word_to_idx = {word:(word_idx + INDEX_FROM) for word, word_idx in word_to_idx.items()}\n",
    "word_to_idx['<PAD>'] = 0\n",
    "word_to_idx['<START>'] = 1\n",
    "word_to_idx['<UNK>'] = 2\n",
    "\n",
    "idx_to_word = {word_idx:word for word, word_idx in word_to_idx.items()}\n",
    "\n",
    "# turn the lists of integers into a 2D integer tensor of shape `(samples, maxlen)`\n",
    "x_train = sequence.pad_sequences(x_train, maxlen=200)\n",
    "x_test = sequence.pad_sequences(x_test, maxlen=200)"
   ]
  },
  {
   "cell_type": "code",
   "execution_count": 3,
   "metadata": {},
   "outputs": [
    {
     "name": "stdout",
     "output_type": "stream",
     "text": [
      "(25000, 200)\n"
     ]
    }
   ],
   "source": [
    "print(x_train.shape)"
   ]
  },
  {
   "cell_type": "code",
   "execution_count": 4,
   "metadata": {},
   "outputs": [
    {
     "name": "stdout",
     "output_type": "stream",
     "text": [
      "[   0    0    0    0    0    0    0    0    0    0    0    0    0    0\n",
      "    0    0    0    0    0    1   12   68  114  109    5 1294   19  365\n",
      "    2    2    2   12   68  114  109    5   19   18 1082    2   10   11\n",
      "  206  109    2    6  101   54  170   25    2    7   71   12  257  235\n",
      "    6    3    2    4    2 1537    2    7   29    2   37 1132    3    2\n",
      "   16   24  331   13   12  644  148    2    6    3    2  703   22    2\n",
      "   42    7   66   36   13 1082    2   15   36   46   76    2   33  110\n",
      "   17    2  362   12   68   56  325   50   12   15   10   17  106  633\n",
      "  302   12    2   45    6   11    4 1705  473  295   30    6    3   90\n",
      "  306  371   12   68  125  109  394    5  216  949    2    7   40  837\n",
      "    5   19  336   10    2  259  114  109  258   14 1489    4   14    2\n",
      "  158   24   61   27    7   66   40  173    4  173    3  955   15  403\n",
      "   17    5  249   14    2   58   15    5  337    2  425 1127    3    2\n",
      "  630   20   24   68    7    2   40   50    5   19   57    7  379   60\n",
      " 1082    2   19 1593]\n"
     ]
    }
   ],
   "source": [
    "print(x_train[1001])"
   ]
  },
  {
   "cell_type": "markdown",
   "metadata": {},
   "source": [
    "Here is an example of a review with positive sentiment (this particular review has been truncated, so we only see the last 200 words of the review):"
   ]
  },
  {
   "cell_type": "code",
   "execution_count": 5,
   "metadata": {},
   "outputs": [
    {
     "name": "stdout",
     "output_type": "stream",
     "text": [
      "and you could just imagine being there robert <UNK> is an amazing actor and now the same being director <UNK> father came from the same <UNK> island as myself so i loved the fact there was a real <UNK> with this film the witty <UNK> throughout the film were great it was just brilliant so much that i bought the film as soon as it was released for <UNK> and would recommend it to everyone to watch and the <UNK> <UNK> was amazing really <UNK> at the end it was so sad and you know what they say if you cry at a film it must have been good and this definitely was also <UNK> to the two little <UNK> that played the <UNK> of <UNK> and paul they were just brilliant children are often left out of the <UNK> list i think because the stars that play them all <UNK> up are such a big <UNK> for the whole film but these children are amazing and should be <UNK> for what they have done don't you think the whole story was so lovely because it was true and was <UNK> life after all that was <UNK> with us all\n"
     ]
    }
   ],
   "source": [
    "print(' '.join(idx_to_word[idx] for idx in x_train[0]))"
   ]
  },
  {
   "cell_type": "code",
   "execution_count": 6,
   "metadata": {},
   "outputs": [
    {
     "data": {
      "text/plain": [
       "array([1, 0, 0, 1, 0])"
      ]
     },
     "execution_count": 6,
     "metadata": {},
     "output_type": "execute_result"
    }
   ],
   "source": [
    "y_train[0:5]"
   ]
  },
  {
   "cell_type": "markdown",
   "metadata": {},
   "source": [
    "Here is an example of a review with negative sentiment (this particular review has been padded at the beginning; note that when we can see the starting of a review, the first token of the actual review is a special token `<START>`):"
   ]
  },
  {
   "cell_type": "code",
   "execution_count": 7,
   "metadata": {},
   "outputs": [
    {
     "name": "stdout",
     "output_type": "stream",
     "text": [
      "<PAD> <PAD> <PAD> <PAD> <PAD> <PAD> <PAD> <PAD> <PAD> <PAD> <PAD> <PAD> <PAD> <PAD> <PAD> <PAD> <START> in a far away <UNK> is a planet called <UNK> it's <UNK> people <UNK> <UNK> but the dog people <UNK> war upon these <UNK> loving people and they have no choice but to go to earth and <UNK> people up for food this is one of the <UNK> f <UNK> <UNK> ideas for a movie i've seen leave it to <UNK> <UNK> to make a movie more <UNK> than the already low standard he set in previous films it's like he <UNK> playing in a <UNK> game of <UNK> how low can he go the only <UNK> in the <UNK> are us the viewer mr <UNK> and his silly little <UNK> <UNK> actually has people who still buy this crap br br my grade f br br dvd <UNK> commentary by <UNK> <UNK> the story behind the making of 9 and a half minutes <UNK> minutes 15 seconds of behind the scenes footage <UNK> <UNK> <UNK> and <UNK> for the <UNK> <UNK> girl in gold <UNK> the <UNK> <UNK> ten violent women featuring nudity blood <UNK> of the she <UNK> the <UNK> <UNK>\n"
     ]
    }
   ],
   "source": [
    "print(' '.join(idx_to_word[idx] for idx in x_train[-3]))"
   ]
  },
  {
   "cell_type": "code",
   "execution_count": 8,
   "metadata": {},
   "outputs": [
    {
     "data": {
      "text/plain": [
       "0"
      ]
     },
     "execution_count": 8,
     "metadata": {},
     "output_type": "execute_result"
    }
   ],
   "source": [
    "y_train[-3]"
   ]
  },
  {
   "cell_type": "markdown",
   "metadata": {},
   "source": [
    "## Use pre-trained word embeddings\n",
    "We use GloVe embeddings instead of learning our own task-specific word embedding. First download the pre-computed embeddings from 2014 English Wikipedia on https://nlp.stanford.edu/projects/glove/ (specifically the one with 6 billion tokens, `globe.6B.zip`). Unzip it (so that `glove.6B.100d.txt` is located in the directory `./glove/`)."
   ]
  },
  {
   "cell_type": "markdown",
   "metadata": {},
   "source": [
    "We first create a dictionary that maps each English word to its corresponding 100-dimensional GloVe embedding."
   ]
  },
  {
   "cell_type": "code",
   "execution_count": 27,
   "metadata": {},
   "outputs": [
    {
     "data": {
      "text/plain": [
       "array([ 0.28365  , -0.6263   , -0.44351  ,  0.2177   , -0.087421 ,\n",
       "       -0.17062  ,  0.29266  , -0.024899 ,  0.26414  , -0.17023  ,\n",
       "        0.25817  ,  0.097484 , -0.33103  , -0.43859  ,  0.0095799,\n",
       "        0.095624 , -0.17777  ,  0.38886  ,  0.27151  ,  0.14742  ,\n",
       "       -0.43973  , -0.26588  , -0.024271 ,  0.27186  , -0.36761  ,\n",
       "       -0.24827  , -0.20815  ,  0.22128  , -0.044409 ,  0.021373 ,\n",
       "        0.24594  ,  0.26143  ,  0.29303  ,  0.13281  ,  0.082232 ,\n",
       "       -0.12869  ,  0.1622   , -0.22567  , -0.060348 ,  0.28703  ,\n",
       "        0.11381  ,  0.34839  ,  0.3419   ,  0.36996  , -0.13592  ,\n",
       "        0.0062694,  0.080317 ,  0.0036251,  0.43093  ,  0.01882  ,\n",
       "        0.31008  ,  0.16722  ,  0.074112 , -0.37745  ,  0.47363  ,\n",
       "        0.41284  ,  0.24471  ,  0.075965 , -0.51725  , -0.49481  ,\n",
       "        0.526    , -0.074645 ,  0.41434  , -0.1956   , -0.16544  ,\n",
       "       -0.045649 , -0.40153  , -0.13136  , -0.4672   ,  0.18825  ,\n",
       "        0.2612   ,  0.16854  ,  0.22615  ,  0.62992  , -0.1288   ,\n",
       "        0.055841 ,  0.01928  ,  0.024572 ,  0.46875  ,  0.2582   ,\n",
       "       -0.31672  ,  0.048591 ,  0.3277   , -0.50141  ,  0.30855  ,\n",
       "        0.11997  , -0.25768  , -0.039867 , -0.059672 ,  0.5525   ,\n",
       "        0.13885  , -0.22862  ,  0.071792 , -0.43208  ,  0.5398   ,\n",
       "       -0.085806 ,  0.032651 ,  0.43678  , -0.82607  , -0.15701  ],\n",
       "      dtype=float32)"
      ]
     },
     "execution_count": 27,
     "metadata": {},
     "output_type": "execute_result"
    }
   ],
   "source": [
    "embedding"
   ]
  },
  {
   "cell_type": "code",
   "execution_count": 9,
   "metadata": {},
   "outputs": [
    {
     "name": "stdout",
     "output_type": "stream",
     "text": [
      "Found 400000 word vectors.\n"
     ]
    }
   ],
   "source": [
    "word_to_embedding = {}\n",
    "\n",
    "# we will use the 100-dimensional embedding vectors\n",
    "with open(\"./glove/glove.6B.100d.txt\") as f:\n",
    "    # each row represents a word vector\n",
    "    for line in f:\n",
    "        values = line.split()\n",
    "        # the first part is word\n",
    "        word = values[0]\n",
    "        # the rest of the values form the embedding vector\n",
    "        embedding = np.asarray(values[1:], dtype='float32')\n",
    "        word_to_embedding[word] = embedding\n",
    "\n",
    "print('Found %s word vectors.' % len(word_to_embedding))"
   ]
  },
  {
   "cell_type": "markdown",
   "metadata": {},
   "source": [
    "Next, we create an embedding matrix, where the i-th row holds the GloVe embedding for the i-th top word (except where i=0 is the special padding token `<PAD>`, i=1 is the special `<START>` token, and i=2 is the special `<UNK>` token; for these special cases the embedding vector is left as all zeros)."
   ]
  },
  {
   "cell_type": "code",
   "execution_count": 10,
   "metadata": {},
   "outputs": [],
   "source": [
    "embedding_dim = 100\n",
    "\n",
    "embedding_matrix = np.zeros((vocab_size, embedding_dim))\n",
    "for idx in range(vocab_size):\n",
    "    word = idx_to_word[idx]\n",
    "    if word in word_to_embedding:\n",
    "        embedding_matrix[idx] = word_to_embedding[word]"
   ]
  },
  {
   "cell_type": "code",
   "execution_count": 29,
   "metadata": {},
   "outputs": [
    {
     "data": {
      "text/plain": [
       "(2000, 100)"
      ]
     },
     "execution_count": 29,
     "metadata": {},
     "output_type": "execute_result"
    }
   ],
   "source": [
    "embedding_matrix.shape"
   ]
  },
  {
   "cell_type": "markdown",
   "metadata": {},
   "source": [
    "## Feedforward network with embeddings"
   ]
  },
  {
   "cell_type": "markdown",
   "metadata": {},
   "source": [
    "This first neural net is *not* a recurrent neural net. It does not do anything special to account for time series structure. This net is meant to be a baseline that we compare a recurrent neural net against. To make the comparison somewhat fair, in both cases, the last two layers have the same output dimensions: the second-to-last layer is a Dense layer with 64 neurons and `relu` activation, and the last layer is a Dense layer with 1 neuron and `sigmoid` activation."
   ]
  },
  {
   "cell_type": "code",
   "execution_count": 11,
   "metadata": {},
   "outputs": [
    {
     "name": "stdout",
     "output_type": "stream",
     "text": [
      "WARNING:tensorflow:From /Users/jiangchang/opt/anaconda3/lib/python3.7/site-packages/tensorflow/python/framework/op_def_library.py:263: colocate_with (from tensorflow.python.framework.ops) is deprecated and will be removed in a future version.\n",
      "Instructions for updating:\n",
      "Colocations handled automatically by placer.\n",
      "_________________________________________________________________\n",
      "Layer (type)                 Output Shape              Param #   \n",
      "=================================================================\n",
      "embedding_1 (Embedding)      (None, 200, 100)          200000    \n",
      "_________________________________________________________________\n",
      "flatten_1 (Flatten)          (None, 20000)             0         \n",
      "_________________________________________________________________\n",
      "dense_1 (Dense)              (None, 64)                1280064   \n",
      "_________________________________________________________________\n",
      "dense_2 (Dense)              (None, 1)                 65        \n",
      "=================================================================\n",
      "Total params: 1,480,129\n",
      "Trainable params: 1,480,129\n",
      "Non-trainable params: 0\n",
      "_________________________________________________________________\n"
     ]
    }
   ],
   "source": [
    "from keras.models import Sequential\n",
    "from keras.layers import Embedding, Flatten, Dense\n",
    "# initialize the model\n",
    "feedforward_model = Sequential()\n",
    "feedforward_model.add(Embedding(vocab_size, embedding_dim, input_length=200))\n",
    "feedforward_model.add(Flatten())\n",
    "feedforward_model.add(Dense(64, activation='relu'))\n",
    "feedforward_model.add(Dense(1, activation='sigmoid'))\n",
    "feedforward_model.summary()"
   ]
  },
  {
   "cell_type": "code",
   "execution_count": 12,
   "metadata": {},
   "outputs": [
    {
     "name": "stdout",
     "output_type": "stream",
     "text": [
      "_________________________________________________________________\n",
      "Layer (type)                 Output Shape              Param #   \n",
      "=================================================================\n",
      "embedding_1 (Embedding)      (None, 200, 100)          200000    \n",
      "_________________________________________________________________\n",
      "flatten_1 (Flatten)          (None, 20000)             0         \n",
      "_________________________________________________________________\n",
      "dense_1 (Dense)              (None, 64)                1280064   \n",
      "_________________________________________________________________\n",
      "dense_2 (Dense)              (None, 1)                 65        \n",
      "=================================================================\n",
      "Total params: 1,480,129\n",
      "Trainable params: 1,280,129\n",
      "Non-trainable params: 200,000\n",
      "_________________________________________________________________\n"
     ]
    }
   ],
   "source": [
    "# load the GloVe embeddings in the model\n",
    "feedforward_model.layers[0].set_weights([embedding_matrix])\n",
    "# set the embedding layer to be not trainable, so the weights do not change during the training\n",
    "feedforward_model.layers[0].trainable = False\n",
    "\n",
    "feedforward_model.summary()  # the summary changes after we turn off training for the 0-th layer (note the last line \"Non-trainable params\")"
   ]
  },
  {
   "cell_type": "code",
   "execution_count": 13,
   "metadata": {},
   "outputs": [
    {
     "name": "stdout",
     "output_type": "stream",
     "text": [
      "WARNING:tensorflow:From /Users/jiangchang/opt/anaconda3/lib/python3.7/site-packages/tensorflow/python/ops/math_ops.py:3066: to_int32 (from tensorflow.python.ops.math_ops) is deprecated and will be removed in a future version.\n",
      "Instructions for updating:\n",
      "Use tf.cast instead.\n",
      "Train on 20000 samples, validate on 5000 samples\n",
      "Epoch 1/10\n",
      "20000/20000 [==============================] - 6s 325us/step - loss: 0.6264 - acc: 0.6503 - val_loss: 0.5891 - val_acc: 0.6940\n",
      "Epoch 2/10\n",
      "20000/20000 [==============================] - 6s 295us/step - loss: 0.4747 - acc: 0.7729 - val_loss: 0.6205 - val_acc: 0.6892\n",
      "Epoch 3/10\n",
      "20000/20000 [==============================] - 6s 286us/step - loss: 0.3865 - acc: 0.8291 - val_loss: 0.6074 - val_acc: 0.7150\n",
      "Epoch 4/10\n",
      "20000/20000 [==============================] - 7s 330us/step - loss: 0.3162 - acc: 0.8634 - val_loss: 0.6406 - val_acc: 0.7078\n",
      "Epoch 5/10\n",
      "20000/20000 [==============================] - 6s 306us/step - loss: 0.2442 - acc: 0.8999 - val_loss: 0.7402 - val_acc: 0.7094\n",
      "Epoch 6/10\n",
      "20000/20000 [==============================] - 6s 293us/step - loss: 0.1796 - acc: 0.9294 - val_loss: 0.8469 - val_acc: 0.7000\n",
      "Epoch 7/10\n",
      "20000/20000 [==============================] - 6s 296us/step - loss: 0.1266 - acc: 0.9534 - val_loss: 1.0038 - val_acc: 0.7078\n",
      "Epoch 8/10\n",
      "20000/20000 [==============================] - 6s 293us/step - loss: 0.0909 - acc: 0.9688 - val_loss: 1.1602 - val_acc: 0.6924\n",
      "Epoch 9/10\n",
      "20000/20000 [==============================] - 6s 283us/step - loss: 0.0732 - acc: 0.9735 - val_loss: 1.3024 - val_acc: 0.7014\n",
      "Epoch 10/10\n",
      "20000/20000 [==============================] - 6s 284us/step - loss: 0.0443 - acc: 0.9869 - val_loss: 1.3606 - val_acc: 0.6954\n"
     ]
    }
   ],
   "source": [
    "# compile and train the model\n",
    "feedforward_model.compile(optimizer='adam',\n",
    "                          loss='binary_crossentropy',\n",
    "                          metrics=['acc'])\n",
    "\n",
    "history = feedforward_model.fit(x_train, y_train,\n",
    "                                validation_split=0.2,\n",
    "                                epochs=10,\n",
    "                                batch_size=32)"
   ]
  },
  {
   "cell_type": "code",
   "execution_count": 14,
   "metadata": {},
   "outputs": [
    {
     "data": {
      "text/plain": [
       "<matplotlib.legend.Legend at 0x63d226310>"
      ]
     },
     "execution_count": 14,
     "metadata": {},
     "output_type": "execute_result"
    },
    {
     "data": {
      "image/png": "[encoded data removed]",
      "text/plain": [
       "<Figure size 432x288 with 1 Axes>"
      ]
     },
     "metadata": {
      "needs_background": "light"
     },
     "output_type": "display_data"
    }
   ],
   "source": [
    "# plot the accuracy rates for each epoch on training and validation data\n",
    "acc = history.history['acc']\n",
    "val_acc = history.history['val_acc']\n",
    "epochs = range(1, len(acc) + 1)\n",
    "plt.plot(epochs, acc, 'bo', label='Training acc')\n",
    "plt.plot(epochs, val_acc, 'b', label='Validation acc')\n",
    "plt.title('Training and validation accuracy')\n",
    "plt.legend()"
   ]
  },
  {
   "cell_type": "markdown",
   "metadata": {},
   "source": [
    "## LSTM"
   ]
  },
  {
   "cell_type": "markdown",
   "metadata": {},
   "source": [
    "Now we use an LSTM recurrent neural net. If you want to use a different kind of RNN such as `SimpleRNN` or `GRU`, simply replace `LSTM` with `SimpleRNN` or `GRU` (both in importing the layer and in adding the layer to the model)."
   ]
  },
  {
   "cell_type": "code",
   "execution_count": 15,
   "metadata": {},
   "outputs": [
    {
     "name": "stdout",
     "output_type": "stream",
     "text": [
      "_________________________________________________________________\n",
      "Layer (type)                 Output Shape              Param #   \n",
      "=================================================================\n",
      "embedding_2 (Embedding)      (None, 200, 100)          200000    \n",
      "_________________________________________________________________\n",
      "lstm_1 (LSTM)                (None, 64)                42240     \n",
      "_________________________________________________________________\n",
      "dense_3 (Dense)              (None, 1)                 65        \n",
      "=================================================================\n",
      "Total params: 242,305\n",
      "Trainable params: 42,305\n",
      "Non-trainable params: 200,000\n",
      "_________________________________________________________________\n"
     ]
    }
   ],
   "source": [
    "from keras.models import Sequential\n",
    "from keras.layers import Embedding, LSTM, Dense\n",
    "rnn_model = Sequential()\n",
    "rnn_model.add(Embedding(vocab_size, embedding_dim, input_length=200))\n",
    "rnn_model.add(LSTM(64))\n",
    "rnn_model.add(Dense(1, activation='sigmoid'))\n",
    "\n",
    "# load the GloVe embeddings in the model\n",
    "rnn_model.layers[0].set_weights([embedding_matrix])\n",
    "rnn_model.layers[0].trainable = False\n",
    "\n",
    "rnn_model.summary()"
   ]
  },
  {
   "cell_type": "code",
   "execution_count": 16,
   "metadata": {},
   "outputs": [
    {
     "name": "stdout",
     "output_type": "stream",
     "text": [
      "Train on 20000 samples, validate on 5000 samples\n",
      "Epoch 1/10\n",
      "20000/20000 [==============================] - 109s 5ms/step - loss: 0.6511 - acc: 0.6219 - val_loss: 0.6498 - val_acc: 0.6174\n",
      "Epoch 2/10\n",
      "20000/20000 [==============================] - 105s 5ms/step - loss: 0.4847 - acc: 0.7677 - val_loss: 0.4034 - val_acc: 0.8178\n",
      "Epoch 3/10\n",
      "20000/20000 [==============================] - 105s 5ms/step - loss: 0.3900 - acc: 0.8243 - val_loss: 0.3754 - val_acc: 0.8360\n",
      "Epoch 4/10\n",
      "20000/20000 [==============================] - 111s 6ms/step - loss: 0.3538 - acc: 0.8443 - val_loss: 0.3408 - val_acc: 0.8514\n",
      "Epoch 5/10\n",
      "20000/20000 [==============================] - 109s 5ms/step - loss: 0.3267 - acc: 0.8586 - val_loss: 0.3279 - val_acc: 0.8582\n",
      "Epoch 6/10\n",
      "20000/20000 [==============================] - 110s 6ms/step - loss: 0.3067 - acc: 0.8676 - val_loss: 0.3197 - val_acc: 0.8628\n",
      "Epoch 7/10\n",
      "20000/20000 [==============================] - 110s 6ms/step - loss: 0.2901 - acc: 0.8782 - val_loss: 0.3132 - val_acc: 0.8722\n",
      "Epoch 8/10\n",
      "20000/20000 [==============================] - 113s 6ms/step - loss: 0.2702 - acc: 0.8878 - val_loss: 0.3094 - val_acc: 0.8698\n",
      "Epoch 9/10\n",
      "20000/20000 [==============================] - 113s 6ms/step - loss: 0.2544 - acc: 0.8949 - val_loss: 0.3253 - val_acc: 0.8626\n",
      "Epoch 10/10\n",
      "20000/20000 [==============================] - 112s 6ms/step - loss: 0.2385 - acc: 0.9023 - val_loss: 0.3152 - val_acc: 0.8732\n"
     ]
    }
   ],
   "source": [
    "# compile and train the model\n",
    "rnn_model.compile(optimizer='adam',\n",
    "                  loss='binary_crossentropy',\n",
    "                  metrics=['acc'])\n",
    "history = rnn_model.fit(x_train, y_train,\n",
    "                        validation_split=0.2,\n",
    "                        epochs=10,\n",
    "                        batch_size=32)"
   ]
  },
  {
   "cell_type": "code",
   "execution_count": 17,
   "metadata": {},
   "outputs": [
    {
     "data": {
      "image/png": "[encoded data removed]",
      "text/plain": [
       "<Figure size 432x288 with 1 Axes>"
      ]
     },
     "metadata": {
      "needs_background": "light"
     },
     "output_type": "display_data"
    }
   ],
   "source": [
    "# plot the accuracy rates for each epoch on training and validation data\n",
    "acc = history.history['acc']\n",
    "val_acc = history.history['val_acc']\n",
    "epochs = range(1, len(acc) + 1)\n",
    "plt.plot(epochs, acc, 'bo', label='Training acc')\n",
    "plt.plot(epochs, val_acc, 'b', label='Validation acc')\n",
    "plt.title('Training and validation accuracy')\n",
    "plt.legend()\n",
    "plt.show()"
   ]
  },
  {
   "cell_type": "markdown",
   "metadata": {},
   "source": [
    "## Finally evaluate on test data"
   ]
  },
  {
   "cell_type": "markdown",
   "metadata": {},
   "source": [
    "We now compare the test set raw classification accuracies of the feedforward neural net vs the LSTM model. Keep in mind that we have set both of these models up so that right before the final logistic regression classification layer, we are representing each review as a feature vector of length 64. The LSTM model learns a much better 64-dimensional feature space to use (as evidenced by its dramatically higher prediction accuracy on the test set)."
   ]
  },
  {
   "cell_type": "code",
   "execution_count": 18,
   "metadata": {},
   "outputs": [
    {
     "name": "stdout",
     "output_type": "stream",
     "text": [
      "25000/25000 [==============================] - 1s 54us/step\n",
      "Test accuracy: 0.69556\n"
     ]
    }
   ],
   "source": [
    "test_loss, test_acc = feedforward_model.evaluate(x_test, y_test)\n",
    "print('Test accuracy:', test_acc)"
   ]
  },
  {
   "cell_type": "code",
   "execution_count": 19,
   "metadata": {},
   "outputs": [
    {
     "name": "stdout",
     "output_type": "stream",
     "text": [
      "25000/25000 [==============================] - 25s 982us/step\n",
      "Test accuracy: 0.87128\n"
     ]
    }
   ],
   "source": [
    "test_loss, test_acc = rnn_model.evaluate(x_test, y_test)\n",
    "print('Test accuracy:', test_acc)"
   ]
  },
  {
   "cell_type": "markdown",
   "metadata": {},
   "source": [
    "To get predictions, we use the `predict_classes` function (note that there is a `predict` function that outputs whatever is the neural net's final output, which in this case is the probability of positive sentiment per test example, since the final layer is a Dense layer with 1 neuron and sigmoid activation)."
   ]
  },
  {
   "cell_type": "code",
   "execution_count": 20,
   "metadata": {},
   "outputs": [],
   "source": [
    "predicted_labels = rnn_model.predict_classes(x_test)"
   ]
  },
  {
   "cell_type": "code",
   "execution_count": 21,
   "metadata": {},
   "outputs": [
    {
     "data": {
      "text/plain": [
       "array([[0],\n",
       "       [1],\n",
       "       [1],\n",
       "       ...,\n",
       "       [0],\n",
       "       [1],\n",
       "       [0]], dtype=int32)"
      ]
     },
     "execution_count": 21,
     "metadata": {},
     "output_type": "execute_result"
    }
   ],
   "source": [
    "predicted_labels"
   ]
  },
  {
   "cell_type": "code",
   "execution_count": 22,
   "metadata": {},
   "outputs": [
    {
     "data": {
      "text/plain": [
       "0.87128"
      ]
     },
     "execution_count": 22,
     "metadata": {},
     "output_type": "execute_result"
    }
   ],
   "source": [
    "np.mean(predicted_labels.flatten() == y_test)"
   ]
  },
  {
   "cell_type": "markdown",
   "metadata": {},
   "source": [
    "In case you're wondering how the predicted labels are computed, we can simply look at the raw neural net outputs (which are probabilities) and threshold at probability 0.5 (i.e., declare every test example with probability at least 0.5 of having positive sentiment to be in the positive sentiment class and declare all other test examples to have negative sentiment)."
   ]
  },
  {
   "cell_type": "code",
   "execution_count": 23,
   "metadata": {},
   "outputs": [],
   "source": [
    "test_set_predicted_probs = rnn_model.predict(x_test)"
   ]
  },
  {
   "cell_type": "code",
   "execution_count": 24,
   "metadata": {},
   "outputs": [
    {
     "data": {
      "text/plain": [
       "array([[0.09834361],\n",
       "       [0.9883077 ],\n",
       "       [0.51072687],\n",
       "       ...,\n",
       "       [0.02129862],\n",
       "       [0.5492878 ],\n",
       "       [0.14470032]], dtype=float32)"
      ]
     },
     "execution_count": 24,
     "metadata": {},
     "output_type": "execute_result"
    }
   ],
   "source": [
    "test_set_predicted_probs"
   ]
  },
  {
   "cell_type": "markdown",
   "metadata": {},
   "source": [
    "The code below computes the test set accuracy of `rnn_model`. Note that `test_set_predicted_probs >= .5` converts the test set predicted probabilities into actual classifications (1 if the predicted probability is greater than .5 and 0 otherwise). Flattening is needed since `test_set_predicted_probs >= .5` is actually a 2D array."
   ]
  },
  {
   "cell_type": "code",
   "execution_count": 25,
   "metadata": {},
   "outputs": [
    {
     "data": {
      "text/plain": [
       "0.87128"
      ]
     },
     "execution_count": 25,
     "metadata": {},
     "output_type": "execute_result"
    }
   ],
   "source": [
    "np.mean((test_set_predicted_probs >= .5).flatten() == y_test)"
   ]
  }
 ],
 "metadata": {
  "anaconda-cloud": {},
  "kernelspec": {
   "display_name": "Python 3",
   "language": "python",
   "name": "python3"
  },
  "language_info": {
   "codemirror_mode": {
    "name": "ipython",
    "version": 3
   },
   "file_extension": ".py",
   "mimetype": "text/x-python",
   "name": "python",
   "nbconvert_exporter": "python",
   "pygments_lexer": "ipython3",
   "version": "3.7.4"
  }
 },
 "nbformat": 4,
 "nbformat_minor": 1
}
