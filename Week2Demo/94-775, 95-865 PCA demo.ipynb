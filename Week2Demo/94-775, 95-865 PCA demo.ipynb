{
 "cells": [
  {
   "cell_type": "markdown",
   "metadata": {},
   "source": [
    "# 94-775/95-865: PCA Demo\n",
    "Author: George Chen (georgechen [at symbol] cmu.edu)\n",
    "\n",
    "This demo is heavily based on Mark Richardson's 2009 \"Principle Component Analysis\" notes and uses data he pulled from DEFRA on 1997 UK food consumption (grams/person/week). This dataset is also used as a nice illustrated example of PCA here:\n",
    "http://setosa.io/ev/principal-component-analysis/"
   ]
  },
  {
   "cell_type": "code",
   "execution_count": 1,
   "metadata": {},
   "outputs": [
    {
     "name": "stdout",
     "output_type": "stream",
     "text": [
      "                            England          Wales       Scotland      N Ireland\n",
      "Cheese                          105            103            103             66\n",
      "Carcass meat                    245            227            242            267\n",
      "Other meat                      685            803            750            586\n",
      "Fish                            147            160            122             93\n",
      "Fats and oils                   193            235            184            209\n",
      "Sugars                          156            175            147            139\n",
      "Fresh potatoes                  720            874            566           1033\n",
      "Fresh Veg                       253            265            171            143\n",
      "Other Veg                       488            570            418            355\n",
      "Processed potatoes              198            203            220            187\n",
      "Processed Veg                   360            365            337            334\n",
      "Fresh fruit                    1102           1137            957            674\n",
      "Cereals                        1472           1582           1462           1494\n",
      "Beverages                        57             73             53             47\n",
      "Soft drinks                    1374           1256           1572           1506\n",
      "Alcoholic drinks                375            475            458            135\n",
      "Confectionary                    54             64             62             41\n"
     ]
    }
   ],
   "source": [
    "%matplotlib inline\n",
    "import matplotlib.pyplot as plt\n",
    "plt.style.use('seaborn')  # prettier plots\n",
    "import numpy as np\n",
    "\n",
    "# grams per person per week\n",
    "food_data = np.array([[105, 103, 103, 66],\n",
    "                      [245, 227, 242, 267],\n",
    "                      [685, 803, 750, 586],\n",
    "                      [147, 160, 122, 93],\n",
    "                      [193, 235, 184, 209], \n",
    "                      [156, 175, 147, 139],\n",
    "                      [720, 874, 566, 1033],\n",
    "                      [253, 265, 171, 143],\n",
    "                      [488, 570, 418, 355],\n",
    "                      [198, 203, 220, 187],\n",
    "                      [360, 365, 337, 334],\n",
    "                      [1102, 1137, 957, 674],\n",
    "                      [1472, 1582, 1462, 1494],\n",
    "                      [57, 73, 53, 47],\n",
    "                      [1374, 1256, 1572, 1506],\n",
    "                      [375, 475, 458, 135],\n",
    "                      [54, 64, 62, 41]])\n",
    "row_labels = ['Cheese',\n",
    "              'Carcass meat',\n",
    "              'Other meat',\n",
    "              'Fish',\n",
    "              'Fats and oils',\n",
    "              'Sugars',\n",
    "              'Fresh potatoes',\n",
    "              'Fresh Veg',\n",
    "              'Other Veg',\n",
    "              'Processed potatoes',\n",
    "              'Processed Veg',\n",
    "              'Fresh fruit',\n",
    "              'Cereals',\n",
    "              'Beverages',\n",
    "              'Soft drinks',\n",
    "              'Alcoholic drinks',\n",
    "              'Confectionary']\n",
    "column_labels = ['England', 'Wales', 'Scotland', 'N Ireland']\n",
    "\n",
    "first_column_width = 20\n",
    "other_columns_width = 15\n",
    "\n",
    "# print header\n",
    "print(\"\".ljust(first_column_width), end='')\n",
    "for column_label in column_labels:\n",
    "    print(column_label.rjust(other_columns_width), end='')\n",
    "print()\n",
    "\n",
    "# print each row in the numpy array with a column label\n",
    "for row_label, row in zip(row_labels, food_data):\n",
    "    print(row_label.ljust(first_column_width), end='')\n",
    "    print(\"\".join([(\"%d\" % x).rjust(other_columns_width) for x in row]))"
   ]
  },
  {
   "cell_type": "code",
   "execution_count": 2,
   "metadata": {},
   "outputs": [
    {
     "data": {
      "text/plain": [
       "array([[ 105,  245,  685,  147,  193,  156,  720,  253,  488,  198,  360,\n",
       "        1102, 1472,   57, 1374,  375,   54],\n",
       "       [ 103,  227,  803,  160,  235,  175,  874,  265,  570,  203,  365,\n",
       "        1137, 1582,   73, 1256,  475,   64],\n",
       "       [ 103,  242,  750,  122,  184,  147,  566,  171,  418,  220,  337,\n",
       "         957, 1462,   53, 1572,  458,   62],\n",
       "       [  66,  267,  586,   93,  209,  139, 1033,  143,  355,  187,  334,\n",
       "         674, 1494,   47, 1506,  135,   41]])"
      ]
     },
     "execution_count": 2,
     "metadata": {},
     "output_type": "execute_result"
    }
   ],
   "source": [
    "food_data.T"
   ]
  },
  {
   "cell_type": "code",
   "execution_count": 3,
   "metadata": {},
   "outputs": [
    {
     "data": {
      "text/plain": [
       "([<matplotlib.axis.XTick at 0x112fd9c50>,\n",
       "  <matplotlib.axis.XTick at 0x1047b0a90>,\n",
       "  <matplotlib.axis.XTick at 0x1038d68d0>,\n",
       "  <matplotlib.axis.XTick at 0x113fdf190>,\n",
       "  <matplotlib.axis.XTick at 0x114016690>,\n",
       "  <matplotlib.axis.XTick at 0x114016c90>,\n",
       "  <matplotlib.axis.XTick at 0x1140165d0>,\n",
       "  <matplotlib.axis.XTick at 0x11401f510>,\n",
       "  <matplotlib.axis.XTick at 0x11401fb50>,\n",
       "  <matplotlib.axis.XTick at 0x114025250>,\n",
       "  <matplotlib.axis.XTick at 0x1140257d0>,\n",
       "  <matplotlib.axis.XTick at 0x114025e10>,\n",
       "  <matplotlib.axis.XTick at 0x11402b490>,\n",
       "  <matplotlib.axis.XTick at 0x11402bad0>,\n",
       "  <matplotlib.axis.XTick at 0x114033190>,\n",
       "  <matplotlib.axis.XTick at 0x11402b890>,\n",
       "  <matplotlib.axis.XTick at 0x11401f910>],\n",
       " <a list of 17 Text xticklabel objects>)"
      ]
     },
     "execution_count": 3,
     "metadata": {},
     "output_type": "execute_result"
    },
    {
     "data": {
      "image/png": "[encoded data removed]",
      "text/plain": [
       "<Figure size 432x288 with 1 Axes>"
      ]
     },
     "metadata": {
      "needs_background": "light"
     },
     "output_type": "display_data"
    }
   ],
   "source": [
    "plt.bar(range(len(row_labels)), food_data[:, 0])\n",
    "plt.xticks(range(len(row_labels)), row_labels, rotation=90)"
   ]
  },
  {
   "cell_type": "code",
   "execution_count": 4,
   "metadata": {},
   "outputs": [
    {
     "data": {
      "text/plain": [
       "([<matplotlib.axis.XTick at 0x114099fd0>,\n",
       "  <matplotlib.axis.XTick at 0x114099650>,\n",
       "  <matplotlib.axis.XTick at 0x114099110>,\n",
       "  <matplotlib.axis.XTick at 0x11417c750>,\n",
       "  <matplotlib.axis.XTick at 0x11417cc90>,\n",
       "  <matplotlib.axis.XTick at 0x114187310>,\n",
       "  <matplotlib.axis.XTick at 0x114187990>,\n",
       "  <matplotlib.axis.XTick at 0x114187a90>,\n",
       "  <matplotlib.axis.XTick at 0x11418b650>,\n",
       "  <matplotlib.axis.XTick at 0x11418bc90>,\n",
       "  <matplotlib.axis.XTick at 0x11418bd50>,\n",
       "  <matplotlib.axis.XTick at 0x11417c710>,\n",
       "  <matplotlib.axis.XTick at 0x1141934d0>,\n",
       "  <matplotlib.axis.XTick at 0x114193b10>,\n",
       "  <matplotlib.axis.XTick at 0x11419a1d0>,\n",
       "  <matplotlib.axis.XTick at 0x11419a7d0>,\n",
       "  <matplotlib.axis.XTick at 0x11419ae10>],\n",
       " <a list of 17 Text xticklabel objects>)"
      ]
     },
     "execution_count": 4,
     "metadata": {},
     "output_type": "execute_result"
    },
    {
     "data": {
      "image/png": "[encoded data removed]",
      "text/plain": [
       "<Figure size 432x288 with 1 Axes>"
      ]
     },
     "metadata": {
      "needs_background": "light"
     },
     "output_type": "display_data"
    }
   ],
   "source": [
    "plt.bar(range(len(row_labels)), food_data[:, 1])\n",
    "plt.xticks(range(len(row_labels)), row_labels, rotation=90)"
   ]
  },
  {
   "cell_type": "code",
   "execution_count": 5,
   "metadata": {},
   "outputs": [],
   "source": [
    "from sklearn.decomposition import PCA\n",
    "\n",
    "single_dimension_pca = PCA(n_components=1)  # project data down to a single dimension\n",
    "\n",
    "single_dimension_pca.fit(food_data.T)\n",
    "\n",
    "single_dimension_food_data = single_dimension_pca.transform(food_data.T)[:, 0]\n",
    "\n"
   ]
  },
  {
   "cell_type": "code",
   "execution_count": 18,
   "metadata": {},
   "outputs": [
    {
     "data": {
      "text/plain": [
       "array([[-144.99315218],\n",
       "       [-240.52914764],\n",
       "       [ -91.869339  ],\n",
       "       [ 477.39163882]])"
      ]
     },
     "execution_count": 18,
     "metadata": {},
     "output_type": "execute_result"
    }
   ],
   "source": [
    "single_dimension_pca.transform(food_data.T)"
   ]
  },
  {
   "cell_type": "code",
   "execution_count": 6,
   "metadata": {},
   "outputs": [
    {
     "data": {
      "text/plain": [
       "array([[-0.05695538,  0.04792763, -0.25891666, -0.08441498, -0.00519362,\n",
       "        -0.03762098,  0.40140206, -0.15184994, -0.24359373, -0.02688623,\n",
       "        -0.03648827, -0.6326409 , -0.04770286, -0.02618776,  0.23224414,\n",
       "        -0.46396817, -0.0296502 ]])"
      ]
     },
     "execution_count": 6,
     "metadata": {},
     "output_type": "execute_result"
    }
   ],
   "source": [
    "single_dimension_pca.components_# what does this component stand for?"
   ]
  },
  {
   "cell_type": "code",
   "execution_count": 7,
   "metadata": {},
   "outputs": [
    {
     "data": {
      "text/plain": [
       "array([[-144.99315218],\n",
       "       [-240.52914764],\n",
       "       [ -91.869339  ],\n",
       "       [ 477.39163882]])"
      ]
     },
     "execution_count": 7,
     "metadata": {},
     "output_type": "execute_result"
    }
   ],
   "source": [
    "single_dimension_pca.transform(food_data.T)"
   ]
  },
  {
   "cell_type": "code",
   "execution_count": 8,
   "metadata": {},
   "outputs": [
    {
     "data": {
      "text/plain": [
       "array([-144.99315218, -240.52914764,  -91.869339  ,  477.39163882])"
      ]
     },
     "execution_count": 8,
     "metadata": {},
     "output_type": "execute_result"
    }
   ],
   "source": [
    "single_dimension_food_data"
   ]
  },
  {
   "cell_type": "code",
   "execution_count": 9,
   "metadata": {},
   "outputs": [
    {
     "data": {
      "image/png": "[encoded data removed]",
      "text/plain": [
       "<Figure size 432x288 with 1 Axes>"
      ]
     },
     "metadata": {
      "needs_background": "light"
     },
     "output_type": "display_data"
    }
   ],
   "source": [
    "# matplotlib doesn't have a built-in 1D scatter plot but we can\n",
    "# just use a 2D scatter plot with y-axis values all set to 0\n",
    "y_axis_all_zeros = np.zeros(len(single_dimension_food_data))\n",
    "\n",
    "plt.scatter(single_dimension_food_data, y_axis_all_zeros)\n",
    "for idx in range(len(single_dimension_food_data)):\n",
    "    plt.annotate(column_labels[idx], (single_dimension_food_data[idx], y_axis_all_zeros[idx]), rotation=90)"
   ]
  },
  {
   "cell_type": "code",
   "execution_count": 10,
   "metadata": {},
   "outputs": [
    {
     "data": {
      "text/plain": [
       "array([0.67444346])"
      ]
     },
     "execution_count": 10,
     "metadata": {},
     "output_type": "execute_result"
    }
   ],
   "source": [
    "single_dimension_pca.explained_variance_ratio_"
   ]
  },
  {
   "cell_type": "markdown",
   "metadata": {},
   "source": [
    "For any data point in the original 17-dimensional space, we can see what the PCA single-dimensional representation is using the `transform` function. For example, in the next cell, we compute the 1D projections for both England and Wales. However, we could actually plug in data that we didn't fit the PCA model with (for example, if we collected the 17 measurements for Pennsylvania, we could use it with transform as well, etc)."
   ]
  },
  {
   "cell_type": "code",
   "execution_count": 11,
   "metadata": {},
   "outputs": [
    {
     "data": {
      "text/plain": [
       "[array([ 105,  245,  685,  147,  193,  156,  720,  253,  488,  198,  360,\n",
       "        1102, 1472,   57, 1374,  375,   54]),\n",
       " array([ 103,  227,  803,  160,  235,  175,  874,  265,  570,  203,  365,\n",
       "        1137, 1582,   73, 1256,  475,   64])]"
      ]
     },
     "execution_count": 11,
     "metadata": {},
     "output_type": "execute_result"
    }
   ],
   "source": [
    "[food_data[:, 0], food_data[:, 1]]"
   ]
  },
  {
   "cell_type": "code",
   "execution_count": 12,
   "metadata": {},
   "outputs": [
    {
     "data": {
      "text/plain": [
       "array([[-144.99315218],\n",
       "       [-240.52914764]])"
      ]
     },
     "execution_count": 12,
     "metadata": {},
     "output_type": "execute_result"
    }
   ],
   "source": [
    "single_dimension_pca.transform([food_data[:, 0], food_data[:, 1]])"
   ]
  },
  {
   "cell_type": "markdown",
   "metadata": {},
   "source": [
    "How could this be realized?\n",
    "The purpose is to get most variance, in this case, if there is only one point in multi dimension, how to get the PCA without knowing other points?"
   ]
  },
  {
   "cell_type": "markdown",
   "metadata": {},
   "source": [
    "## Interpretation\n",
    "\n",
    "How do we interpret the low-dimensional representation? Why is North Ireland so far away from the other points? One way to try to answer this question is to first look at what features (i.e., what specific food/drink items) are being assigned high weight by PCA:"
   ]
  },
  {
   "cell_type": "code",
   "execution_count": 13,
   "metadata": {},
   "outputs": [
    {
     "name": "stdout",
     "output_type": "stream",
     "text": [
      "[-0.05695538  0.04792763 -0.25891666 -0.08441498 -0.00519362 -0.03762098\n",
      "  0.40140206 -0.15184994 -0.24359373 -0.02688623 -0.03648827 -0.6326409\n",
      " -0.04770286 -0.02618776  0.23224414 -0.46396817 -0.0296502 ]\n"
     ]
    }
   ],
   "source": [
    "print(single_dimension_pca.components_[0])  # index 0 is for the 1st principal component (since Python starts counting at 0)"
   ]
  },
  {
   "cell_type": "markdown",
   "metadata": {},
   "source": [
    "Importantly, how PCA (that has already been fitted) actually projects a data point to 1D is to take a weighted combination using the above weights (although it first subtracts off the feature means). Specifically, here are the calculations for England and Wales:"
   ]
  },
  {
   "cell_type": "code",
   "execution_count": 14,
   "metadata": {},
   "outputs": [
    {
     "data": {
      "text/plain": [
       "-144.9931521820767"
      ]
     },
     "execution_count": 14,
     "metadata": {},
     "output_type": "execute_result"
    }
   ],
   "source": [
    "np.inner(single_dimension_pca.components_[0],\n",
    "         food_data[:, 0] - single_dimension_pca.mean_)"
   ]
  },
  {
   "cell_type": "code",
   "execution_count": 22,
   "metadata": {},
   "outputs": [
    {
     "data": {
      "text/plain": [
       "(17,)"
      ]
     },
     "execution_count": 22,
     "metadata": {},
     "output_type": "execute_result"
    }
   ],
   "source": [
    "food_data[:, 0].shape"
   ]
  },
  {
   "cell_type": "code",
   "execution_count": 15,
   "metadata": {},
   "outputs": [
    {
     "data": {
      "text/plain": [
       "-240.52914763517668"
      ]
     },
     "execution_count": 15,
     "metadata": {},
     "output_type": "execute_result"
    }
   ],
   "source": [
    "np.inner(single_dimension_pca.components_[0],\n",
    "         food_data[:, 1] - single_dimension_pca.mean_)"
   ]
  },
  {
   "cell_type": "markdown",
   "metadata": {},
   "source": [
    "Weights with larger absolute value correspond to features that lead to the largest spread along the projected 1D axis."
   ]
  },
  {
   "cell_type": "markdown",
   "metadata": {},
   "source": [
    "Here's some code to rank the weights by largest absolute value to smallest absolute value:"
   ]
  },
  {
   "cell_type": "code",
   "execution_count": 16,
   "metadata": {},
   "outputs": [
    {
     "name": "stdout",
     "output_type": "stream",
     "text": [
      "Fresh fruit : -0.6326408978722375\n",
      "Alcoholic drinks : -0.46396816797670637\n",
      "Fresh potatoes : 0.4014020602962481\n",
      "Other meat : -0.25891665833612115\n",
      "Other Veg : -0.24359372899027432\n",
      "Soft drinks : 0.23224414047289457\n",
      "Fresh Veg : -0.1518499415623022\n",
      "Fish : -0.08441498252508357\n",
      "Cheese : -0.056955379785685246\n",
      "Carcass meat : 0.04792762813468533\n",
      "Cereals : -0.047702858373648974\n",
      "Sugars : -0.03762098283940197\n",
      "Processed Veg : -0.03648826911159384\n",
      "Confectionary : -0.029650201087993877\n",
      "Processed potatoes : -0.026886232536746935\n",
      "Beverages : -0.026187755908533464\n",
      "Fats and oils : -0.005193622660047768\n"
     ]
    }
   ],
   "source": [
    "abs_val_of_1st_principal_component_weights = np.abs(single_dimension_pca.components_[0])\n",
    "\n",
    "# in the previous lecture we saw the `sorted` function; now we introduce numpy's `argsort`,\n",
    "# which does *not* return the sorted list but instead returns the rearranged indices that\n",
    "# would sort the list (put another way, it returns rankings)\n",
    "ranking_of_largest_to_smallest = np.argsort(-abs_val_of_1st_principal_component_weights)  # use negative to get largest to smallest\n",
    "\n",
    "# now print out the food items having highest to lowest absolute value weight\n",
    "for rank in ranking_of_largest_to_smallest:\n",
    "    print(row_labels[rank], ':', single_dimension_pca.components_[0][rank])"
   ]
  },
  {
   "cell_type": "markdown",
   "metadata": {},
   "source": [
    "At this point, we leave the following as an exercise to you: for a few of the food/drink items with the highest absolute value weight, compare the values between the different regions of the UK. Can you see why North Ireland is considered very different from the other regions?"
   ]
  },
  {
   "cell_type": "code",
   "execution_count": null,
   "metadata": {},
   "outputs": [],
   "source": []
  }
 ],
 "metadata": {
  "kernelspec": {
   "display_name": "Python 3",
   "language": "python",
   "name": "python3"
  },
  "language_info": {
   "codemirror_mode": {
    "name": "ipython",
    "version": 3
   },
   "file_extension": ".py",
   "mimetype": "text/x-python",
   "name": "python",
   "nbconvert_exporter": "python",
   "pygments_lexer": "ipython3",
   "version": "3.7.4"
  }
 },
 "nbformat": 4,
 "nbformat_minor": 1
}
